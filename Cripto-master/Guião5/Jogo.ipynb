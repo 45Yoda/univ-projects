{
 "cells": [
  {
   "cell_type": "code",
   "execution_count": 7,
   "metadata": {},
   "outputs": [
    {
     "name": "stdout",
     "output_type": "stream",
     "text": [
      "kiwi\n",
      "Cifra Identidade\n"
     ]
    }
   ],
   "source": [
    "from Crypto.Random import get_random_bytes\n",
    "from random import randint\n",
    "\n",
    "class Adversary:\n",
    "    def choose(self, enc_oracle):\n",
    "        return \"banana\", \"kiwi\"\n",
    "    \n",
    "    def guess(self,enc_oracle,c):\n",
    "        if(c == \"banana\"):\n",
    "            return 0\n",
    "        else:\n",
    "            return 1\n",
    "\n",
    "class Challenger:\n",
    "    def enc(self,k,ptxt):\n",
    "        return ptxt\n",
    "    \n",
    "    def keygen(self):\n",
    "        k = get_random_bytes(16)\n",
    "        return k\n",
    "    \n",
    "def random_bit():\n",
    "    return randint(0,1)\n",
    "\n",
    "def IND_CPA(C,A):\n",
    "    k = C.keygen()\n",
    "    enc_oracle = lambda ptxt: C.enc(k,ptxt)\n",
    "    bit0, bit1 = A.choose(enc_oracle)\n",
    "    m = [bit0, bit1]\n",
    "    b = random_bit()\n",
    "    c = C.enc(k,m[b])\n",
    "    bx = A.guess(enc_oracle,c)\n",
    "    return b==bx\n",
    "\n",
    "C = Challenger()\n",
    "A = Adversary()\n",
    "if(IND_CPA(C,A)):\n",
    "    print(\"Cifra Identidade\")"
   ]
  },
  {
   "cell_type": "code",
   "execution_count": null,
   "metadata": {},
   "outputs": [],
   "source": []
  }
 ],
 "metadata": {
  "kernelspec": {
   "display_name": "Python 3",
   "language": "python",
   "name": "python3"
  },
  "language_info": {
   "codemirror_mode": {
    "name": "ipython",
    "version": 3
   },
   "file_extension": ".py",
   "mimetype": "text/x-python",
   "name": "python",
   "nbconvert_exporter": "python",
   "pygments_lexer": "ipython3",
   "version": "3.6.7"
  }
 },
 "nbformat": 4,
 "nbformat_minor": 2
}
