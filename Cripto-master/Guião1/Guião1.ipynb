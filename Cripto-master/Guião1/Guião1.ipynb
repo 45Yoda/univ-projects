{
 "cells": [
  {
   "cell_type": "code",
   "execution_count": 1,
   "metadata": {},
   "outputs": [],
   "source": [
    "from cryptography.fernet import Fernet\n",
    "\n",
    "def encrypt_file(fil,key):\n",
    "    fer = Fernet(key)\n",
    "    with open(fil,'rb') as f:\n",
    "        encrypted_file = fer.encrypt(f.read())\n",
    "        \n",
    "    with open(fil + '.enc', 'wb') as f:\n",
    "        f.write(encrypted_file)\n",
    "        \n",
    "def decrypt_file(fil,key):\n",
    "    fer = Fernet(key)\n",
    "    with open(fil,'rb') as f:\n",
    "        decrypted_file = fer.decrypt(f.read())\n",
    "        \n",
    "    fil = fil[:-4]    \n",
    "        \n",
    "    with open(fil + '.desenc', 'wb') as f:\n",
    "        f.write(decrypted_file)\n",
    "        \n",
    "\n",
    "def main():\n",
    "    key = Fernet.generate_key()\n",
    "    encrypt_file(\"./texto.txt\",key)\n",
    "    decrypt_file(\"./texto.txt.enc\",key)\n",
    "    \n",
    "if __name__ == '__main__':\n",
    "    main()\n",
    "        "
   ]
  },
  {
   "cell_type": "code",
   "execution_count": null,
   "metadata": {},
   "outputs": [],
   "source": []
  },
  {
   "cell_type": "code",
   "execution_count": null,
   "metadata": {},
   "outputs": [],
   "source": []
  },
  {
   "cell_type": "code",
   "execution_count": null,
   "metadata": {},
   "outputs": [],
   "source": []
  }
 ],
 "metadata": {
  "kernelspec": {
   "display_name": "Python 3",
   "language": "python",
   "name": "python3"
  },
  "language_info": {
   "codemirror_mode": {
    "name": "ipython",
    "version": 3
   },
   "file_extension": ".py",
   "mimetype": "text/x-python",
   "name": "python",
   "nbconvert_exporter": "python",
   "pygments_lexer": "ipython3",
   "version": "3.6.7"
  }
 },
 "nbformat": 4,
 "nbformat_minor": 2
}
