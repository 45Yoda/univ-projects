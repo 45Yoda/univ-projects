{
 "cells": [
  {
   "cell_type": "code",
   "execution_count": 1,
   "metadata": {},
   "outputs": [
    {
     "name": "stdout",
     "output_type": "stream",
     "text": [
      "\n",
      " \n",
      " Certificate verified \n",
      " \n",
      "\n"
     ]
    }
   ],
   "source": [
    "from OpenSSL import crypto\n",
    "from cryptography import utils\n",
    "from cryptography.hazmat.primitives.asymmetric import dsa, ec, rsa\n",
    "from cryptography.x509.extensions import Extension, ExtensionType\n",
    "from cryptography.x509.name import Name\n",
    "from cryptography import x509\n",
    "from cryptography.hazmat.backends import default_backend\n",
    "from cryptography.hazmat.primitives import hashes, hmac, serialization\n",
    "\n",
    "def verify_chain_of_trust(cert_pem, trusted_cert_pems):\n",
    "    \n",
    "    certificate = crypto.load_certificate(crypto.FILETYPE_PEM, cert_pem)\n",
    "\n",
    "    # Create and fill a X509Sore with trusted certs\n",
    "    store = crypto.X509Store()\n",
    "    for trusted_cert_pem in trusted_cert_pems:\n",
    "        trusted_cert = crypto.load_certificate(crypto.FILETYPE_PEM, trusted_cert_pem)\n",
    "        store.add_cert(trusted_cert)\n",
    "\n",
    "    # Create a X590StoreContext with the cert and trusted certs\n",
    "    # and verify the the chain of trust\n",
    "    store_ctx = crypto.X509StoreContext(store, certificate)\n",
    "    # Returns None if certificate can be validated\n",
    "    result = store_ctx.verify_certificate()\n",
    "\n",
    "    if result is None:\n",
    "        return True\n",
    "    else:\n",
    "        return False\n",
    "\n",
    "\n",
    "\n",
    "\n",
    "#Palavra passe PKCS12\n",
    "passwd=b\"1234\"\n",
    "\n",
    "#ler pkcs12 Servidor\n",
    "p12S = crypto.load_pkcs12(open(\"p12/Servidor.p12\", 'rb').read(), passwd)\n",
    "\n",
    "#ler pkcs12 Cliente\n",
    "p12C = crypto.load_pkcs12(open(\"p12/Cliente.p12\", 'rb').read(), passwd)\n",
    "\n",
    "#abrir certificado\n",
    "file=open(\"certificados/CA.cer\",\"rb\")\n",
    "x=file.read()\n",
    "\n",
    "#ler certificado\n",
    "cert = x509.load_der_x509_certificate(x, default_backend())\n",
    "\n",
    "#public Key\n",
    "pk = cert.public_key()\n",
    "serialized_public_key = pk.public_bytes(serialization.Encoding.DER, serialization.PublicFormat.SubjectPublicKeyInfo)\n",
    "\n",
    "#validar cadeia\n",
    "\n",
    "with open('certificados/CA.pem', 'r') as cert_file:\n",
    "        cert = cert_file.read()\n",
    "        \n",
    "with open('certificados/Cliente.pem', 'r') as cert_file:\n",
    "        cert2 = cert_file.read()\n",
    "\n",
    "trusted_certs = (cert, cert)\n",
    "verified = verify_chain_of_trust(cert2, trusted_certs)\n",
    "\n",
    "if verified:\n",
    "        print('\\n \\n Certificate verified \\n \\n')\n",
    "        \n",
    "        \n",
    "\n"
   ]
  },
  {
   "cell_type": "code",
   "execution_count": null,
   "metadata": {},
   "outputs": [],
   "source": []
  }
 ],
 "metadata": {
  "kernelspec": {
   "display_name": "Python 3",
   "language": "python",
   "name": "python3"
  },
  "language_info": {
   "codemirror_mode": {
    "name": "ipython",
    "version": 3
   },
   "file_extension": ".py",
   "mimetype": "text/x-python",
   "name": "python",
   "nbconvert_exporter": "python",
   "pygments_lexer": "ipython3",
   "version": "3.7.2"
  }
 },
 "nbformat": 4,
 "nbformat_minor": 2
}
