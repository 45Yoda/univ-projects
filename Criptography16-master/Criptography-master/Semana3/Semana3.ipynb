{
 "cells": [
  {
   "cell_type": "code",
   "execution_count": 11,
   "metadata": {},
   "outputs": [],
   "source": [
    "from Crypto.Cipher import Salsa20\n",
    "from Crypto.Hash import HMAC, SHA256\n",
    "from Crypto.Random import get_random_bytes\n",
    "\n",
    "plainfile = open(\"file\", 'rb')\n",
    "secretSalsa20 = get_random_bytes(32)\n",
    "secretSha256 = get_random_bytes(32)\n",
    "with open(\"secret\", 'wb') as passfile:\n",
    "    passfile.write(secretSalsa20)\n",
    "    passfile.write(secretSha256)\n",
    "cipher = Salsa20.new(key=secretSalsa20)\n",
    "msg = cipher.nonce + cipher.encrypt(plainfile.read())\n",
    "h = HMAC.new(secretSha256, msg, digestmod=SHA256)\n",
    "hex = h.hexdigest()\n",
    "with open(\"Salsa20\", 'wb') as salsafile:\n",
    "    salsafile.write(msg)\n",
    "with open(\"Sha256\", 'w') as shafile:\n",
    "    shafile.write(hex)"
   ]
  },
  {
   "cell_type": "code",
   "execution_count": 12,
   "metadata": {},
   "outputs": [],
   "source": [
    "from Crypto.Hash import HMAC, SHA256\n",
    "from Crypto.Cipher import Salsa20\n",
    "\n",
    "passfile = open(\"secret\", 'rb')\n",
    "secretSalsa20 = passfile.read(32)\n",
    "secretSha256 = passfile.read(32)\n",
    "with open(\"Salsa20\", 'rb') as salsafile:\n",
    "    msg_nonce = salsafile.read(8)\n",
    "    ciphertext = salsafile.read()\n",
    "    msg = msg_nonce + ciphertext\n",
    "    h = HMAC.new(secretSha256, msg, digestmod=SHA256)\n",
    "\n",
    "try:\n",
    "    with open(\"Sha256\", 'r') as shafile:\n",
    "        h.hexverify(shafile.read())\n",
    "    cipher = Salsa20.new(key=secretSalsa20, nonce=msg_nonce)\n",
    "    text = cipher.decrypt(ciphertext)\n",
    "    with open('decrypted', 'wb') as decryptedfile:\n",
    "        decryptedfile.write(text)\n",
    "except ValueError:\n",
    "    print(\"Message has been compromised\")\n",
    "passfile.close()"
   ]
  },
  {
   "cell_type": "code",
   "execution_count": null,
   "metadata": {},
   "outputs": [],
   "source": []
  }
 ],
 "metadata": {
  "kernelspec": {
   "display_name": "Python 3",
   "language": "python",
   "name": "python3"
  },
  "language_info": {
   "codemirror_mode": {
    "name": "ipython",
    "version": 3
   },
   "file_extension": ".py",
   "mimetype": "text/x-python",
   "name": "python",
   "nbconvert_exporter": "python",
   "pygments_lexer": "ipython3",
   "version": "3.5.2"
  }
 },
 "nbformat": 4,
 "nbformat_minor": 2
}
