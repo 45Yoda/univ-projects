{
 "cells": [
  {
   "cell_type": "code",
   "execution_count": 23,
   "metadata": {},
   "outputs": [],
   "source": [
    "from cryptography.hazmat.primitives import serialization\n",
    "from cryptography.hazmat.backends import default_backend\n",
    "from cryptography.hazmat.primitives.asymmetric import rsa\n",
    "\n",
    "private_key = rsa.generate_private_key(\n",
    "     public_exponent=65537,\n",
    "     key_size=2048,\n",
    "     backend=default_backend()\n",
    ")\n",
    "\n",
    "pem = private_key.private_bytes(\n",
    "    encoding=serialization.Encoding.PEM,\n",
    "    format=serialization.PrivateFormat.PKCS8,\n",
    "    encryption_algorithm=serialization.NoEncryption()\n",
    " )\n",
    "f = open('pkey.pem','wb')\n",
    "f.write(pem)\n",
    "f.close()\n",
    "\n",
    "public_key = private_key.public_key()\n",
    "\n",
    "pem = public_key.public_bytes(\n",
    "encoding=serialization.Encoding.PEM,\n",
    "format=serialization.PublicFormat.SubjectPublicKeyInfo\n",
    " )\n",
    "\n",
    "f = open('pubkey.pem','wb')\n",
    "f.write(pem)\n",
    "f.close()"
   ]
  },
  {
   "cell_type": "code",
   "execution_count": 5,
   "metadata": {},
   "outputs": [
    {
     "name": "stdout",
     "output_type": "stream",
     "text": [
      "256\n"
     ]
    }
   ],
   "source": [
    "from cryptography.hazmat.backends import default_backend\n",
    "from cryptography.hazmat.primitives import serialization\n",
    "from cryptography.hazmat.primitives import hashes\n",
    "from cryptography.hazmat.primitives.asymmetric import padding\n",
    "\n",
    "with open(\"pkey.pem\", \"rb\") as key_file:\n",
    "    private_key = serialization.load_pem_private_key(\n",
    "        key_file.read(),\n",
    "        password=None,\n",
    "        backend=default_backend()\n",
    "    )\n",
    "    \n",
    "with open(\"pubkey.pem\", \"rb\") as key_file:\n",
    "    public_key = serialization.load_pem_public_key(\n",
    "        key_file.read(),\n",
    "        backend=default_backend()\n",
    "    )\n",
    "    \n",
    "message = b\"A message I want to sign\"\n",
    "signature = private_key.sign(\n",
    "     message,\n",
    "     padding.PSS(\n",
    "         mgf=padding.MGF1(hashes.SHA256()),\n",
    "         salt_length=padding.PSS.MAX_LENGTH\n",
    "     ),\n",
    "    hashes.SHA256()\n",
    ")\n",
    "\n",
    "print(len(signature))\n",
    "\n",
    "public_key.verify(\n",
    "    signature,\n",
    "    message,\n",
    "    padding.PSS(\n",
    "        mgf=padding.MGF1(hashes.SHA256()),\n",
    "        salt_length=padding.PSS.MAX_LENGTH\n",
    "    ),\n",
    "    hashes.SHA256()\n",
    ")"
   ]
  },
  {
   "cell_type": "code",
   "execution_count": 1,
   "metadata": {},
   "outputs": [],
   "source": [
    "from cryptography.hazmat.primitives import serialization\n",
    "from cryptography.hazmat.backends import default_backend\n",
    "from cryptography.hazmat.primitives.asymmetric import rsa\n",
    "\n",
    "private_key = rsa.generate_private_key(\n",
    "     public_exponent=65537,\n",
    "     key_size=2048,\n",
    "     backend=default_backend()\n",
    ")\n",
    "\n",
    "pem = private_key.private_bytes(\n",
    "    encoding=serialization.Encoding.PEM,\n",
    "    format=serialization.PrivateFormat.PKCS8,\n",
    "    encryption_algorithm=serialization.NoEncryption()\n",
    " )\n",
    "f = open('pkey1.pem','wb')\n",
    "f.write(pem)\n",
    "f.close()\n",
    "\n",
    "public_key = private_key.public_key()\n",
    "\n",
    "pem = public_key.public_bytes(\n",
    "encoding=serialization.Encoding.PEM,\n",
    "format=serialization.PublicFormat.SubjectPublicKeyInfo\n",
    " )\n",
    "\n",
    "f = open('pubkey1.pem','wb')\n",
    "f.write(pem)\n",
    "f.close()"
   ]
  },
  {
   "cell_type": "code",
   "execution_count": null,
   "metadata": {},
   "outputs": [],
   "source": []
  }
 ],
 "metadata": {
  "kernelspec": {
   "display_name": "Python 3",
   "language": "python",
   "name": "python3"
  },
  "language_info": {
   "codemirror_mode": {
    "name": "ipython",
    "version": 3
   },
   "file_extension": ".py",
   "mimetype": "text/x-python",
   "name": "python",
   "nbconvert_exporter": "python",
   "pygments_lexer": "ipython3",
   "version": "3.5.2"
  }
 },
 "nbformat": 4,
 "nbformat_minor": 2
}
