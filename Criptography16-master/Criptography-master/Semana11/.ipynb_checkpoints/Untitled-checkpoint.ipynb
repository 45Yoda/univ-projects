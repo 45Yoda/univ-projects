{
 "cells": [
  {
   "cell_type": "code",
   "execution_count": 43,
   "metadata": {},
   "outputs": [],
   "source": [
    "from OpenSSL import SSL, crypto\n",
    "\n",
    "def Cliente():\n",
    "    cliente_p12 = crypto.load_pkcs12(open(\"Cliente.p12\", 'rb').read(), b'1234')\n",
    "    cliente_pem = crypto.dump_certificate(crypto.FILETYPE_PEM, cliente_p12.get_certificate())\n",
    "    with open('Cliente.pem', 'wb') as cliente_file:\n",
    "        cliente_file.write(cliente_pem)\n",
    "\n",
    "def Servidor():\n",
    "    servidor_p12 = crypto.load_pkcs12(open(\"Servidor.p12\", 'rb').read(), b'1234')\n",
    "    servidor_pem = crypto.dump_certificate(crypto.FILETYPE_PEM, servidor_p12.get_certificate())\n",
    "    with open('Servidor.pem', 'wb') as servidor_file:\n",
    "        servidor_file.write(servidor_pem)\n",
    "        \n",
    "def Cert():\n",
    "    cert_cer = crypto.load_certificate(crypto.FILETYPE_ASN1, open(\"CA.cer\", 'rb').read())\n",
    "    cert_pem = crypto.dump_certificate(crypto.FILETYPE_PEM, cert_cer)\n",
    "    with open('CA.pem', 'wb') as cert_file:\n",
    "        cert_file.write(cert_pem)\n",
    "    \n",
    "Cliente()\n",
    "Servidor()\n",
    "Cert()"
   ]
  },
  {
   "cell_type": "code",
   "execution_count": 63,
   "metadata": {},
   "outputs": [
    {
     "name": "stdout",
     "output_type": "stream",
     "text": [
      "b'Cliente.pem: OK ; Servidor.pem: OK'\n"
     ]
    }
   ],
   "source": [
    "from OpenSSL import SSL, crypto\n",
    "from subprocess import PIPE, Popen\n",
    "\n",
    "def verify():\n",
    "    store = crypto.X509Store()\n",
    "    \n",
    "    test1 = Popen([\"openssl\", \"verify\", \"-CAfile\", \"CA.pem\", \"Cliente.pem\"], \n",
    "                              stdin = PIPE, stdout = PIPE, stderr = PIPE)\n",
    "    output1 = test1.communicate()[0]\n",
    "    \n",
    "    test2 = Popen([\"openssl\", \"verify\", \"-CAfile\", \"CA.pem\", \"Servidor.pem\"], \n",
    "                              stdin = PIPE, stdout = PIPE, stderr = PIPE)\n",
    "    output2 = test2.communicate()[0]\n",
    "    \n",
    "    output = output1[:-1] + b' ; ' + output2[:-1]\n",
    "    \n",
    "    print(output)\n",
    "\n",
    "verify()"
   ]
  },
  {
   "cell_type": "code",
   "execution_count": null,
   "metadata": {},
   "outputs": [],
   "source": []
  }
 ],
 "metadata": {
  "kernelspec": {
   "display_name": "Python 3",
   "language": "python",
   "name": "python3"
  },
  "language_info": {
   "codemirror_mode": {
    "name": "ipython",
    "version": 3
   },
   "file_extension": ".py",
   "mimetype": "text/x-python",
   "name": "python",
   "nbconvert_exporter": "python",
   "pygments_lexer": "ipython3",
   "version": "3.5.2"
  }
 },
 "nbformat": 4,
 "nbformat_minor": 2
}
