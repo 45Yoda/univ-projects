{
 "cells": [
  {
   "cell_type": "code",
   "execution_count": 38,
   "metadata": {
    "collapsed": false
   },
   "outputs": [],
   "source": [
    "from OpenSSL import crypto\n",
    "\n",
    "TYPE_RSA = crypto.TYPE_RSA\n",
    "TYPE_DSA = crypto.TYPE_DSA\n",
    "\n",
    "def createKeyPair(type, bits):\n",
    "    pkey = crypto.PKey()\n",
    "    pkey.generate_key(type, bits)\n",
    "    return pkey\n"
   ]
  },
  {
   "cell_type": "code",
   "execution_count": 39,
   "metadata": {
    "collapsed": true
   },
   "outputs": [],
   "source": [
    "from OpenSSL import crypto\n",
    "\n",
    "def createCertRequest(pkey, digest=\"md5\", **name):\n",
    "    req = crypto.X509Req()\n",
    "    subj = req.get_subject()\n",
    "\n",
    "    for (key,value) in name.items():\n",
    "        setattr(subj, key, value)\n",
    "\n",
    "    req.set_pubkey(pkey)\n",
    "    req.sign(pkey, digest)\n",
    "    return req"
   ]
  },
  {
   "cell_type": "code",
   "execution_count": 42,
   "metadata": {
    "collapsed": false
   },
   "outputs": [],
   "source": [
    "from OpenSSL import SSL,crypto\n",
    "\n",
    "def createCertificate(req,issuerCert, issuerKey, serial,notBefore, notAfter, digest=\"md5\"):\n",
    "    cert = crypto.X509()\n",
    "    cert.set_serial_number(serial)\n",
    "    cert.gmtime_adj_notBefore(notBefore)\n",
    "    cert.gmtime_adj_notAfter(notAfter)\n",
    "    cert.set_issuer(issuerCert.get_subject())\n",
    "    cert.set_subject(req.get_subject())\n",
    "    cert.set_pubkey(req.get_pubkey())\n",
    "    cert.sign(issuerKey, digest)\n",
    "    return cert"
   ]
  },
  {
   "cell_type": "code",
   "execution_count": 51,
   "metadata": {
    "collapsed": false
   },
   "outputs": [],
   "source": [
    "from OpenSSL import crypto\n",
    "\n",
    "cakey = createKeyPair(TYPE_RSA, 1024)\n",
    "careq = createCertRequest(cakey, CN='Certificate Authority')\n",
    "cacert = createCertificate(careq,careq, cakey, 0, 0, 60*60*24*365) # um ano de validade\n",
    "open('CA.pkey', 'wb').write(crypto.dump_privatekey(crypto.FILETYPE_PEM, cakey))\n",
    "open('CA.cert', 'wb').write(crypto.dump_certificate(crypto.FILETYPE_PEM, cacert))\n",
    "for (fname, cname) in [('client', 'Simple Client'), ('server', 'Simple Server')]:\n",
    "    pkey = createKeyPair(TYPE_RSA, 1024)\n",
    "    req = createCertRequest(pkey, CN=cname)\n",
    "    cert = createCertificate(req,cacert, cakey, 1, 0, 60*60*24*365) # um ano de validade\n",
    "    open('%s.pkey' % (fname,), 'wb').write(crypto.dump_privatekey(crypto.FILETYPE_PEM, pkey))\n",
    "    open('%s.cert' % (fname,), 'wb').write(crypto.dump_certificate(crypto.FILETYPE_PEM, cert))\n",
    "\n"
   ]
  }
 ],
 "metadata": {
  "kernelspec": {
   "display_name": "Python 3",
   "language": "python",
   "name": "python3"
  },
  "language_info": {
   "codemirror_mode": {
    "name": "ipython",
    "version": 3
   },
   "file_extension": ".py",
   "mimetype": "text/x-python",
   "name": "python",
   "nbconvert_exporter": "python",
   "pygments_lexer": "ipython3",
   "version": "3.5.1"
  }
 },
 "nbformat": 4,
 "nbformat_minor": 0
}
