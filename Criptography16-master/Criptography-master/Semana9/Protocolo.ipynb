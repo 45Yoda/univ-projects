{
 "cells": [
  {
   "cell_type": "code",
   "execution_count": 38,
   "metadata": {},
   "outputs": [],
   "source": [
    "from cryptography.hazmat.backends import default_backend\n",
    "from cryptography.hazmat.primitives.asymmetric import dh\n",
    "from cryptography.hazmat.backends.interfaces import DHBackend"
   ]
  },
  {
   "cell_type": "code",
   "execution_count": 49,
   "metadata": {},
   "outputs": [],
   "source": [
    "parameters = dh.generate_parameters(generator=2, key_size=512, backend=default_backend())\n",
    "\n",
    "a_private_key = parameters.generate_private_key()\n",
    "a_peer_public_key = a_private_key.public_key()\n",
    "\n",
    "a_pn = a_peer_public_key.public_numbers()\n",
    "a_pr = parameters.parameter_numbers()\n",
    "a_y = a_pn.y\n",
    "a_p = a_pr.p\n",
    "a_g = a_pr.g"
   ]
  },
  {
   "cell_type": "code",
   "execution_count": 50,
   "metadata": {},
   "outputs": [],
   "source": [
    "parameters_numbers = dh.DHParameterNumbers(a_p, a_g)\n",
    "parameters2 = parameters_numbers.parameters(default_backend())\n",
    "\n",
    "b_private_key = parameters2.generate_private_key()\n",
    "b_peer_public_key = b_private_key.public_key()\n",
    "\n",
    "a_public_numbers = dh.DHPublicNumbers(a_y, parameters_numbers)\n",
    "a_public_key = a_public_numbers.public_key(default_backend())\n",
    "b_shared_key = b_private_key.exchange(a_public_key)\n",
    "\n",
    "b_pn = b_peer_public_key.public_numbers()\n",
    "b_y = b_pn.y"
   ]
  },
  {
   "cell_type": "code",
   "execution_count": 51,
   "metadata": {},
   "outputs": [
    {
     "name": "stdout",
     "output_type": "stream",
     "text": [
      "b'a_secret: b\\xac\\xben\\x14\\x9b\\xfc9EM\\x8d/\\x10<\\x95\\xea\\\\3\\xd6Q*\\x9f\\x1a\\xaa$8;gx\\xf2}\\xceM\\xb9\\xdd\\x82,\\xf7\\x85\\xcbH\\xba\\xd8\\xac\\xfdUJ\\x9e2?\\x1c\\x8b\\x11\\x1b\\xd8\\xb3^\\x90\\xc7\\xabg\\xe9\\x06*'\n",
      "b'b_secret: b\\xac\\xben\\x14\\x9b\\xfc9EM\\x8d/\\x10<\\x95\\xea\\\\3\\xd6Q*\\x9f\\x1a\\xaa$8;gx\\xf2}\\xceM\\xb9\\xdd\\x82,\\xf7\\x85\\xcbH\\xba\\xd8\\xac\\xfdUJ\\x9e2?\\x1c\\x8b\\x11\\x1b\\xd8\\xb3^\\x90\\xc7\\xabg\\xe9\\x06*'\n"
     ]
    }
   ],
   "source": [
    "b_public_numbers = dh.DHPublicNumbers(b_y, a_pr)\n",
    "b_public_key = b_public_numbers.public_key(default_backend())\n",
    "\n",
    "a_shared_key = a_private_key.exchange(b_public_key)\n",
    "\n",
    "print(b'a_secret: ' + a_shared_key)\n",
    "print(b'b_secret: ' + b_shared_key)"
   ]
  },
  {
   "cell_type": "code",
   "execution_count": null,
   "metadata": {},
   "outputs": [],
   "source": []
  }
 ],
 "metadata": {
  "kernelspec": {
   "display_name": "Python 3",
   "language": "python",
   "name": "python3"
  },
  "language_info": {
   "codemirror_mode": {
    "name": "ipython",
    "version": 3
   },
   "file_extension": ".py",
   "mimetype": "text/x-python",
   "name": "python",
   "nbconvert_exporter": "python",
   "pygments_lexer": "ipython3",
   "version": "3.5.2"
  }
 },
 "nbformat": 4,
 "nbformat_minor": 2
}
