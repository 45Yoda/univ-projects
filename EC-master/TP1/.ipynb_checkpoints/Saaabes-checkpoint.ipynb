{
 "cells": [
  {
   "cell_type": "code",
   "execution_count": null,
   "metadata": {
    "scrolled": true
   },
   "outputs": [
    {
     "name": "stdout",
     "output_type": "stream",
     "text": [
      "waiting for a connection\n"
     ]
    }
   ],
   "source": [
    "import socket\n",
    "import os\n",
    "\n",
    "def startserver():\n",
    "    sock = socket.socket(socket.AF_INET, \n",
    "                        socket.SOCK_STREAM)\n",
    "    server_address = ('127.0.0.1',9999)\n",
    "    sock.bind(server_address)\n",
    "    \n",
    "    sock.listen(1)\n",
    "    \n",
    "    while True:\n",
    "        print('waiting for a connection')\n",
    "        connection, client_address = sock.accept()\n",
    "        try:\n",
    "            print('connection from', client_address)\n",
    "        \n",
    "            while True:\n",
    "                data = connection.recv(16)\n",
    "                print('received {!r}'.format(data))\n",
    "                if data:\n",
    "                    print('send')\n",
    "                    connection.sendall(data)\n",
    "                else:\n",
    "                    print('no data')\n",
    "                    break\n",
    "        finally:\n",
    "            connection.close()\n",
    "    \n",
    "startserver()"
   ]
  },
  {
   "cell_type": "code",
   "execution_count": null,
   "metadata": {},
   "outputs": [],
   "source": [
    "import socket\n",
    "\n",
    "def startclient():\n",
    "    sock = socket.socket(socket.AF_INET, socket.SOCK_STREAM)\n",
    "    \n",
    "    server_address = ('127.0.0.1', 9999)\n",
    "    \n",
    "    print('connecting to {} port {}'.format(*server_address))\n",
    "    sock.connect(server_address)\n",
    "    \n",
    "    try:\n",
    "        print('U ass')\n",
    "    \n",
    "    finally:\n",
    "        print('closing socket')\n",
    "        sock.close()\n",
    "\n",
    "startclient()"
   ]
  },
  {
   "cell_type": "code",
   "execution_count": 4,
   "metadata": {},
   "outputs": [
    {
     "name": "stdout",
     "output_type": "stream",
     "text": [
      "Tetos\n"
     ]
    }
   ],
   "source": [
    "import time\n",
    "\n",
    "time.sleep(10)\n",
    "print('Tetos')"
   ]
  },
  {
   "cell_type": "code",
   "execution_count": 5,
   "metadata": {},
   "outputs": [
    {
     "name": "stdout",
     "output_type": "stream",
     "text": [
      "Tutos\n"
     ]
    }
   ],
   "source": [
    "print('Tutos')"
   ]
  }
 ],
 "metadata": {
  "kernelspec": {
   "display_name": "Python 3",
   "language": "python",
   "name": "python3"
  },
  "language_info": {
   "codemirror_mode": {
    "name": "ipython",
    "version": 3
   },
   "file_extension": ".py",
   "mimetype": "text/x-python",
   "name": "python",
   "nbconvert_exporter": "python",
   "pygments_lexer": "ipython3",
   "version": "3.7.1"
  }
 },
 "nbformat": 4,
 "nbformat_minor": 2
}
