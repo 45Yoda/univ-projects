{
 "cells": [
  {
   "cell_type": "code",
   "execution_count": 127,
   "metadata": {},
   "outputs": [],
   "source": [
    "#gerar o segredo\n",
    "def genSecret(p):\n",
    "    secret = ZZ.random_element(p)\n",
    "    print 'The Secret is: '; print secret\n",
    "    return secret\n",
    "    \n",
    "    '''\n",
    "    Aproximação dos k bits mais significativos do seu \n",
    "    argumento módulo p\n",
    "    '''\n",
    "def msb(sec,k,p,xi):\n",
    "    val = ZZ(Mod(xi*sec,p))\n",
    "    bits = val.digits(2)\n",
    "    bits.reverse()\n",
    "    final = ''\n",
    "    if len(bits) < k:\n",
    "        final = ''.join(str(e) for e in bits)\n",
    "    else :\n",
    "        for i in range(0,k):\n",
    "            final += str(bits[i])\n",
    "    \n",
    "    return final\n",
    "\n",
    "def compare(sec,calc):\n",
    "    if calc == sec:\n",
    "        return True\n",
    "    else:\n",
    "        return False\n",
    "    \n"
   ]
  },
  {
   "cell_type": "code",
   "execution_count": 155,
   "metadata": {},
   "outputs": [
    {
     "name": "stdout",
     "output_type": "stream",
     "text": [
      "The Secret is: \n",
      "2931407179645283524\n"
     ]
    }
   ],
   "source": [
    "\n",
    "\n",
    "# l inteiros positivos no intervalo {0,p-1}\n",
    "def generate_xvector(l,p):\n",
    "    x = []\n",
    "    for i in range(0,l):\n",
    "        x.append(ZZ.random_element(p))\n",
    "    return x\n",
    "\n",
    "'''\n",
    "xv -> x vector\n",
    "k -> número > 0\n",
    "p -> primo\n",
    "\n",
    "vetor de l inteiros positivos que verificarem as igualdades\n",
    "ui = msb(s*xi)\n",
    "'''\n",
    "def generate_uvector(sec,xv,k,p):\n",
    "    u = []\n",
    "    for xi in xv:\n",
    "        ui = msb(sec,k,p,xi)\n",
    "        ui = ZZ(int(ui,2))\n",
    "        u.append(ui)\n",
    "    return u\n",
    "    \n",
    "l=2^7\n",
    "k=64\n",
    "p=2^64\n",
    "x = generate_xvector(l,p)\n",
    "sec = genSecret(p)\n",
    "u = generate_uvector(sec,x,k,p)\n",
    "ident = matrix(2^(k+1) * p * matrix.identity(l))"
   ]
  },
  {
   "cell_type": "code",
   "execution_count": 151,
   "metadata": {
    "scrolled": true
   },
   "outputs": [],
   "source": [
    "import sage.modules.free_module_integer as fmi\n",
    "\n",
    "class BV:\n",
    "    \n",
    "    def __init__(self,uv,xv,p,k,l):\n",
    "        \n",
    "        self.comp_lambda = 2^(k+1)\n",
    "        self.L = self.lambda * p * matrix.identity(l)\n",
    "        self.L = self.L.transpose()\n",
    "        self.L = self.L.insert_row(l,zero_vector(l))\n",
    "        self.L = self.L.transpose()\n",
    "        x = [self.lambda * i for i in xv]\n",
    "        x.append(i)\n",
    "        self.L = self.L.insert_row(l,x)\n",
    "        self.target = [self.lambda * i for i in u]\n",
    "        self.target.append(0)\n",
    "        self.target = matrix(self.target)\n",
    "        self.retic = fmi.IntegerLattice(self.L)\n",
    "    \n",
    "    def CV_resolve(self,x,p,l):\n",
    "        L = matrix(self.retic.reduced_basis)\n",
    "        t = matrix(1,l+1,list(-self.target))\n",
    "        zero = matrix(l+1,1,[0]*(l+1))\n",
    "        M = matrix(1,1,[p**2])\n",
    "        L1 = block_matrix(2,2,[[L,zero],[t,M]])\n",
    "        #base reduzida do reticulado de base L1\n",
    "        Lred = fmi.IntegerLattice(L1).reduced_basis\n",
    "        err1 = np.array(Lred[l+1][:-1])\n",
    "        y1 = err1 + self.target\n",
    "        print(y1)\n",
    "        # última componente do vetor resultante\n",
    "        return y1[0][l]\n",
    "        "
   ]
  },
  {
   "cell_type": "code",
   "execution_count": null,
   "metadata": {},
   "outputs": [],
   "source": []
  },
  {
   "cell_type": "code",
   "execution_count": null,
   "metadata": {},
   "outputs": [],
   "source": []
  }
 ],
 "metadata": {
  "kernelspec": {
   "display_name": "SageMath 8.6",
   "language": "",
   "name": "sagemath"
  },
  "language_info": {
   "codemirror_mode": {
    "name": "ipython",
    "version": 2
   },
   "file_extension": ".py",
   "mimetype": "text/x-python",
   "name": "python",
   "nbconvert_exporter": "python",
   "pygments_lexer": "ipython2",
   "version": "2.7.16"
  }
 },
 "nbformat": 4,
 "nbformat_minor": 2
}
