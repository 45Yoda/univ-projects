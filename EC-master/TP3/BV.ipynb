{
 "cells": [
  {
   "cell_type": "markdown",
   "metadata": {},
   "source": [
    "### Exercicio 1\n",
    "\n",
    "Neste exercício pretende-se criar uma class em Python que implemente o algoritmo de Boneh & Venkatesan (BV)"
   ]
  },
  {
   "cell_type": "markdown",
   "metadata": {},
   "source": [
    "Nesta primeira classe foi definido o HiddenNumberProblem. A classe quando inicializada gera um segredo e contém funções que permitem calcular o msb e realizar a comparação do segredo gerado e do segredo calculado."
   ]
  },
  {
   "cell_type": "code",
   "execution_count": 1,
   "metadata": {},
   "outputs": [],
   "source": [
    "class HiddenNumber:\n",
    "    \n",
    "    def __init__(self,p):\n",
    "        #gerar o segredo\n",
    "        self.secret = ZZ.random_element(p)\n",
    "        print 'The Secret is: '; print self.secret\n",
    "    \n",
    "    '''\n",
    "    Aproximação dos k bits mais significativos do seu \n",
    "    argumento módulo p\n",
    "    '''\n",
    "    def msb(self,k,p,xi):\n",
    "        val = ZZ(Mod(xi*self.secret,p))\n",
    "        bits = val.digits(2)\n",
    "        bits.reverse()\n",
    "        final = ''\n",
    "        if len(bits) < k:\n",
    "            final = ''.join(str(e) for e in bits)\n",
    "        else :\n",
    "            for i in range(0,k):\n",
    "                final += str(bits[i])\n",
    "        return final\n",
    "\n",
    "    def compare(self,calc):\n",
    "        if calc == self.secret:\n",
    "            return True\n",
    "        else:\n",
    "            return False\n",
    "    \n"
   ]
  },
  {
   "cell_type": "markdown",
   "metadata": {},
   "source": [
    "Nestas duas funções é gerado o vetor x e o vetor u.\n",
    "\n",
    "O vetor x é constituido por l inteiros positivos gerados aleatoriamente no intervalo {0...p-1}\n",
    "\n",
    "O vetor u é constituido por l inteiros positivos que verificam a igualdade ui = msb(s*xi)"
   ]
  },
  {
   "cell_type": "code",
   "execution_count": 2,
   "metadata": {},
   "outputs": [],
   "source": [
    "def generate_xvector(l,p):\n",
    "    x = []\n",
    "    for i in range(0,l):\n",
    "        x.append(ZZ.random_element(p))\n",
    "    return x\n",
    "\n",
    "def generate_uvector(xv,k,p,hnp):\n",
    "    u = []\n",
    "    for xi in xv:\n",
    "        ui = hnp.msb(k,p,xi)\n",
    "        #binario para decimal\n",
    "        ui = ZZ(int(ui,2))\n",
    "        u.append(ui)\n",
    "    return u\n",
    "    \n"
   ]
  },
  {
   "cell_type": "markdown",
   "metadata": {},
   "source": [
    "### Algoritmo Boneh && Venkatesan\n",
    "\n",
    "Nesta parte seguimos o link fornecido no enunciado.\n",
    "\n",
    "Na inicialização da classe geramos o lambda, a matriz L, o target t e por fim o reticulado.\n",
    "\n",
    "Por fim, resolve-se o CVP aproximado do reticulado com o target t (seguindo o exemplo na worksheet do TP4 HardLattice)"
   ]
  },
  {
   "cell_type": "code",
   "execution_count": 11,
   "metadata": {
    "scrolled": true
   },
   "outputs": [],
   "source": [
    "import sage.modules.free_module_integer as fmi\n",
    "import numpy as np\n",
    "\n",
    "class BV:\n",
    "    \n",
    "    def __init__(self,uv,xv,p,k,l):\n",
    "        \n",
    "        #gerar lambda, matriz L, target T e reticulado\n",
    "        self.comp_lambda = 2^(k+1)\n",
    "        self.L = self.comp_lambda * p * matrix.identity(l)\n",
    "        self.L = self.L.insert_row(l,zero_vector(l))\n",
    "        self.L = self.L.transpose()\n",
    "        x = [self.comp_lambda * i for i in xv]\n",
    "        x.append(1)\n",
    "        self.L = self.L.insert_row(l,x)\n",
    "        \n",
    "        #gerar matriz target\n",
    "        self.target = [self.comp_lambda * i for i in uv]\n",
    "        self.target.append(0)\n",
    "        self.target = matrix(self.target)\n",
    "        self.retic = fmi.IntegerLattice(self.L)\n",
    "    \n",
    "    #CVP aproximado\n",
    "    def CVP_resolve(self,x,p,l):\n",
    "        L = matrix(self.retic.reduced_basis)\n",
    "        t = matrix(1,l+1,list(-self.target))\n",
    "        zero = matrix(l+1,1,[0]*(l+1))\n",
    "        M = matrix(1,1,[p**2])\n",
    "        L1 = block_matrix(2,2,[[L,zero],[t,M]])\n",
    "        #base reduzida do reticulado de base L1\n",
    "        Lred = fmi.IntegerLattice(L1).reduced_basis\n",
    "        err1 = np.array(Lred[l+1][:-1])\n",
    "        y1 = err1 + self.target\n",
    "        # última componente do vetor resultante\n",
    "        return y1[0][l]\n",
    "        "
   ]
  },
  {
   "cell_type": "markdown",
   "metadata": {},
   "source": [
    "### Teste ao algoritmo de Boneh e Venkatesan"
   ]
  },
  {
   "cell_type": "code",
   "execution_count": 33,
   "metadata": {},
   "outputs": [
    {
     "name": "stdout",
     "output_type": "stream",
     "text": [
      "The Secret is: \n",
      "130685910\n",
      "Calculated Secret is: \n",
      "130685910\n",
      "True\n"
     ]
    }
   ],
   "source": [
    "l = 2^4\n",
    "k = 32\n",
    "p = 2^32\n",
    "xv = generate_xvector(l,p)\n",
    "hnp = HiddenNumber(p)\n",
    "uv = generate_uvector(xv,k,p,hnp)\n",
    "bv = BV(uv,xv,p,k,l)\n",
    "calc = bv.CVP_resolve(xv,p,l)\n",
    "print('Calculated Secret is: '); print(calc)\n",
    "if hnp.compare(calc):\n",
    "    print 'True'\n",
    "else:\n",
    "    print 'False'"
   ]
  },
  {
   "cell_type": "code",
   "execution_count": null,
   "metadata": {},
   "outputs": [],
   "source": []
  }
 ],
 "metadata": {
  "kernelspec": {
   "display_name": "SageMath 8.6",
   "language": "",
   "name": "sagemath"
  },
  "language_info": {
   "codemirror_mode": {
    "name": "ipython",
    "version": 2
   },
   "file_extension": ".py",
   "mimetype": "text/x-python",
   "name": "python",
   "nbconvert_exporter": "python",
   "pygments_lexer": "ipython2",
   "version": "2.7.16"
  }
 },
 "nbformat": 4,
 "nbformat_minor": 2
}
