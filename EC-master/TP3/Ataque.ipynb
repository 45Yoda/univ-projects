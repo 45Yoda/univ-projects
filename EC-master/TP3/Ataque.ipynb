{
 "cells": [
  {
   "cell_type": "markdown",
   "metadata": {},
   "source": [
    "## Parâmetros\n",
    "Vamos usar\n",
    "+ $d \\ge 6$ --\n",
    "  parâmetro de segurança\n",
    "+ $N$ --\n",
    "  um primo maior ou igual  2^d\n",
    "  \n",
    "+ $p$ --\n",
    "  um pequeno primo  3,  5 ou  7\n",
    " \n",
    "+ $q$ --\n",
    "  um primo da ordem de grandeza de  $p*N$\n",
    " \n",
    "\n",
    " "
   ]
  },
  {
   "cell_type": "code",
   "execution_count": 1,
   "metadata": {},
   "outputs": [
    {
     "name": "stdout",
     "output_type": "stream",
     "text": [
      "6 211 3 67\n"
     ]
    }
   ],
   "source": [
    "d = 6\n",
    "\n",
    "N = next_prime(1 << d)\n",
    "p = 3\n",
    "q = next_prime(p*N)\n",
    "\n",
    "print d, q, p, N"
   ]
  },
  {
   "cell_type": "markdown",
   "metadata": {},
   "source": [
    "### anéis de polinómios"
   ]
  },
  {
   "cell_type": "code",
   "execution_count": 2,
   "metadata": {},
   "outputs": [],
   "source": [
    "Z.<x>  = ZZ[]        # polinómios de coeficientes inteiros\n",
    "Q.<x>  = PolynomialRing(GF(q),name='x').quotient(x^N-1)"
   ]
  },
  {
   "cell_type": "markdown",
   "metadata": {},
   "source": [
    "### geração aleatória, arredondamento módulo $q$ e compração módulo $p$"
   ]
  },
  {
   "cell_type": "code",
   "execution_count": 2,
   "metadata": {},
   "outputs": [],
   "source": [
    "def vec():\n",
    "    return  [choice([-1,0,1]) for k in range(N)]\n",
    "\n",
    "# arredondamento módulo 'q'\n",
    "def qrnd(f):    # argumento em 'Q'\n",
    "    qq = (q-1)//2 ; ll = map(lift,f.list())\n",
    "    return [n if n <= qq else n - q  for n in ll]\n",
    "\n",
    "# arredondamento módulo 'p'\n",
    "def prnd(l):\n",
    "    pp = (p-1)//2\n",
    "    rr = lambda x: x if x <= pp else x - p        \n",
    "    return [rr(n%p) if n>=0 else -rr((-n)%p) for n in l]\n",
    "\n",
    "# comparação módulo 'p'\n",
    "#def equalp(x,y,p):\n",
    "#    return  all([(a-b)%p == 0  for (a,b) in zip(x,y)] )"
   ]
  },
  {
   "cell_type": "markdown",
   "metadata": {},
   "source": [
    "### classe NTRU"
   ]
  },
  {
   "cell_type": "code",
   "execution_count": 1,
   "metadata": {},
   "outputs": [],
   "source": [
    "class NTRU(object):\n",
    "    def __init__(self):\n",
    "        # calcular um 'f' invertível\n",
    "        f = Q(0)\n",
    "        while not f.is_unit():\n",
    "            F = Q(vec()); f = 1 + p*F\n",
    "        # gerar as chaves\n",
    "        G = Q(vec()) ; g = p*G\n",
    "        self.f = f\n",
    "        self.h = f^(-1) * g\n",
    "        \n",
    "    def encrypt(self,m):\n",
    "        r = Q(vec()) \n",
    "        return r*self.h + Q(m)\n",
    "\n",
    "    def decrypt(self,e):\n",
    "        a = e*self.f\n",
    "        return prnd(qrnd(a))\n"
   ]
  },
  {
   "cell_type": "markdown",
   "metadata": {},
   "source": [
    "### Teste"
   ]
  },
  {
   "cell_type": "code",
   "execution_count": 5,
   "metadata": {},
   "outputs": [
    {
     "data": {
      "text/plain": [
       "True"
      ]
     },
     "execution_count": 5,
     "metadata": {},
     "output_type": "execute_result"
    }
   ],
   "source": [
    "# Uma instância NTRU\n",
    "K = NTRU() \n",
    "# Uma mensagem aleatória\n",
    "m = vec(N)\n",
    "# Cifrar\n",
    "e = K.encrypt(m)  \n",
    "# Decifrar e Verificar\n",
    "m == K.decrypt(e)\n"
   ]
  },
  {
   "cell_type": "code",
   "execution_count": 1,
   "metadata": {},
   "outputs": [
    {
     "ename": "NameError",
     "evalue": "name 'vec' is not defined",
     "output_type": "error",
     "traceback": [
      "\u001b[0;31m---------------------------------------------------------------------------\u001b[0m",
      "\u001b[0;31mNameError\u001b[0m                                 Traceback (most recent call last)",
      "\u001b[0;32m<ipython-input-1-c860f12bc47e>\u001b[0m in \u001b[0;36m<module>\u001b[0;34m()\u001b[0m\n\u001b[1;32m     21\u001b[0m         \u001b[0;32mreturn\u001b[0m \u001b[0mm\u001b[0m\u001b[0;34m\u001b[0m\u001b[0m\n\u001b[1;32m     22\u001b[0m \u001b[0;34m\u001b[0m\u001b[0m\n\u001b[0;32m---> 23\u001b[0;31m \u001b[0mm\u001b[0m \u001b[0;34m=\u001b[0m \u001b[0mvec\u001b[0m\u001b[0;34m(\u001b[0m\u001b[0mInteger\u001b[0m\u001b[0;34m(\u001b[0m\u001b[0;36m32\u001b[0m\u001b[0;34m)\u001b[0m\u001b[0;34m)\u001b[0m\u001b[0;34m\u001b[0m\u001b[0m\n\u001b[0m\u001b[1;32m     24\u001b[0m \u001b[0mcena\u001b[0m \u001b[0;34m=\u001b[0m \u001b[0mpadding\u001b[0m\u001b[0;34m(\u001b[0m\u001b[0mm\u001b[0m\u001b[0;34m)\u001b[0m\u001b[0;34m\u001b[0m\u001b[0m\n\u001b[1;32m     25\u001b[0m \u001b[0;32mprint\u001b[0m\u001b[0;34m(\u001b[0m\u001b[0mm\u001b[0m\u001b[0;34m)\u001b[0m\u001b[0;34m\u001b[0m\u001b[0m\n",
      "\u001b[0;31mNameError\u001b[0m: name 'vec' is not defined"
     ]
    }
   ],
   "source": []
  },
  {
   "cell_type": "markdown",
   "metadata": {
    "collapsed": true
   },
   "source": [
    "## Reticulado $L(h)$"
   ]
  },
  {
   "cell_type": "code",
   "execution_count": 6,
   "metadata": {},
   "outputs": [],
   "source": [
    "# Construção da matriz geradora por blocos\n",
    "\n",
    "import sage.modules.free_module_integer as fmi\n",
    "# http://doc.sagemath.org/html/en/reference/modules/sage/modules/free_module_integer.html\n",
    "\n",
    "class Lat(NTRU):\n",
    "    def __init__(self):\n",
    "        super(Lat,self).__init__()\n",
    "        B1 = identity_matrix(ZZ,N); Bq = q*B1; B0 = matrix(ZZ,N,N,[0]*(N^2))\n",
    "        h = qrnd(self.h)\n",
    "        # rodar um vetor\n",
    "        H = [h]\n",
    "        for k in range(N-1):\n",
    "            h = [h[-1]] + h[:-1]   # shift right rotate\n",
    "            H = H + [h]\n",
    "        H = matrix(ZZ,N,N,H)\n",
    "        self.L = fmi.IntegerLattice(block_matrix([[Bq,B0],[H,B1]]))      "
   ]
  },
  {
   "cell_type": "code",
   "execution_count": 7,
   "metadata": {},
   "outputs": [],
   "source": [
    "l = Lat()"
   ]
  },
  {
   "cell_type": "code",
   "execution_count": 8,
   "metadata": {},
   "outputs": [
    {
     "data": {
      "text/plain": [
       "Free module of degree 134 and rank 134 over Integer Ring\n",
       "User basis matrix:\n",
       "134 x 134 dense matrix over Integer Ring"
      ]
     },
     "execution_count": 8,
     "metadata": {},
     "output_type": "execute_result"
    }
   ],
   "source": [
    "l.L"
   ]
  },
  {
   "cell_type": "code",
   "execution_count": null,
   "metadata": {},
   "outputs": [],
   "source": []
  }
 ],
 "metadata": {
  "kernelspec": {
   "display_name": "SageMath 8.6",
   "language": "",
   "name": "sagemath"
  },
  "language_info": {
   "codemirror_mode": {
    "name": "ipython",
    "version": 2
   },
   "file_extension": ".py",
   "mimetype": "text/x-python",
   "name": "python",
   "nbconvert_exporter": "python",
   "pygments_lexer": "ipython2",
   "version": "2.7.16"
  }
 },
 "nbformat": 4,
 "nbformat_minor": 2
}
