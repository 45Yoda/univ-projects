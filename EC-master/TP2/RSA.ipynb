{
 "cells": [
  {
   "cell_type": "markdown",
   "metadata": {},
   "source": [
    "# Exercicio 1\n",
    "\n",
    "Pretende-se implementar uma classe Python que implemente esquemas RSA."
   ]
  },
  {
   "cell_type": "code",
   "execution_count": 1,
   "metadata": {},
   "outputs": [],
   "source": [
    "#Gera um primo random entre 2^(l-1) e 2^l-1\n",
    "def rprime(l):\n",
    "    return random_prime(2**l-1,True,2**(l-1))\n",
    "\n",
    "#Mapeia a string dada como argumento para código ASCII\n",
    "def mapStr(m):\n",
    "    m = [ord(x) for x in m]\n",
    "    m = ZZ(list(reversed(m)),100)\n",
    "    return m\n"
   ]
  },
  {
   "cell_type": "code",
   "execution_count": 4,
   "metadata": {},
   "outputs": [],
   "source": [
    "l=1024\n",
    "\n",
    "#http://doc.sagemath.org/html/en/thematic_tutorials/numtheory_rsa.html?fbclid=\n",
    "#IwAR0rt-oWkN14K1Y1r9RBTu_-B6nq6bOGy2iusQ2uVMSidaUTF8zhx88R2Bo#cormenetal2001\n",
    "\n",
    "def startRSA():\n",
    "    \n",
    "    #Gera 2 primos q e p\n",
    "    q=rprime(l)\n",
    "    p=rprime(l+1)\n",
    "    \n",
    "    n = p*q\n",
    "    phi = (p-1)*(q-1)\n",
    "\n",
    "    #ZZ.random_element(n) retorna um pseudo-random integer\n",
    "    #uniformemente distribuido entre o intervalo [0,n-1]\n",
    "    e = ZZ.random_element(phi)\n",
    "    #o maior divisor comum entre 'e' e 'phi' deve ser 1\n",
    "    while gcd(e,phi) != 1:\n",
    "        e = ZZ.random_element(phi)\n",
    "\n",
    "    # xgcd retorna 3-tuple (g,s,t) que satisfaz a identidade \n",
    "    #de bézout: g=gcd(x,y) = sx + ty\n",
    "    bezout = xgcd(e,phi) \n",
    "\n",
    "    \n",
    "    #calcula o valor de d usando o algoritmo de Euclides estendido\n",
    "    # de≡1(mod φ(n))\n",
    "    d = Integer(mod(bezout[1],phi))\n",
    "    \n",
    "    return (d,e,n)\n",
    "\n",
    "#private key (p,q,d)\n",
    "#public key (e,n)\n",
    "\n",
    "def cipher(m,e,n):\n",
    "    return power_mod(m,e,n)\n",
    "\n",
    "def decipher(c,d,n):\n",
    "    return power_mod(c,d,n)\n"
   ]
  },
  {
   "cell_type": "markdown",
   "metadata": {},
   "source": [
    "# Assinatura RSA e sua verificação"
   ]
  },
  {
   "cell_type": "code",
   "execution_count": 49,
   "metadata": {},
   "outputs": [],
   "source": [
    "#http://www.sagemath.org/files/kohel-book-2008.pdf\n",
    "\n",
    "def sign(m,d,n):\n",
    "    return power_mod(m,d,n)\n",
    "\n",
    "def verify(sign,m,e,n):\n",
    "    s = power_mod(sign,e,n)\n",
    "    \n",
    "    if m==s:\n",
    "        return true\n",
    "    return false"
   ]
  },
  {
   "cell_type": "code",
   "execution_count": 50,
   "metadata": {},
   "outputs": [
    {
     "name": "stdout",
     "output_type": "stream",
     "text": [
      "HELLOWORLD--->72697676798779827668--->72697676798779827668\n",
      "Decipher: True\n",
      "Signature: True\n"
     ]
    }
   ],
   "source": [
    "msg1 = \"HELLOWORLD\"\n",
    "msg = mapStr(msg1)\n",
    "\n",
    "#Cipher and Decipher\n",
    "(d,e,n) = startRSA()\n",
    "cip = cipher(msg,e,n)\n",
    "plain = decipher(cip,d,n)\n",
    "print(msg1 + \"--->\" + str(msg) + \"--->\" + str(plain))\n",
    "\n",
    "print(\"Decipher: \" + str(mapStr(msg1) == msg))\n",
    "\n",
    "#Sign and Verify\n",
    "sig = sign(msg,d,n)\n",
    "ver = verify(sig,msg,e,n)\n",
    "\n",
    "print(\"Signature: \" + str(ver))"
   ]
  },
  {
   "cell_type": "code",
   "execution_count": null,
   "metadata": {},
   "outputs": [],
   "source": []
  }
 ],
 "metadata": {
  "kernelspec": {
   "display_name": "Python 3",
   "language": "python",
   "name": "python3"
  },
  "language_info": {
   "codemirror_mode": {
    "name": "ipython",
    "version": 2
   },
   "file_extension": ".py",
   "mimetype": "text/x-python",
   "name": "python",
   "nbconvert_exporter": "python",
   "pygments_lexer": "ipython2",
   "version": "2.7.16"
  }
 },
 "nbformat": 4,
 "nbformat_minor": 2
}
