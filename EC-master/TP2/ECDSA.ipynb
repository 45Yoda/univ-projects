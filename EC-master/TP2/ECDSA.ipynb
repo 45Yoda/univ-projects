{
 "cells": [
  {
   "cell_type": "markdown",
   "metadata": {},
   "source": [
    "# Exercicio 2\n",
    "\n",
    "Implementar o ECDSA usando uma das curvas elípticas primas definidas no FIPS186-4."
   ]
  },
  {
   "cell_type": "code",
   "execution_count": 31,
   "metadata": {},
   "outputs": [],
   "source": [
    "from cryptography.hazmat.backends   import default_backend\n",
    "from cryptography.hazmat.primitives import hashes, hmac\n",
    "\n",
    "default_algorithm = hashes.SHA256\n",
    "\n",
    "def Hash(s):\n",
    "    digest = hashes.Hash(default_algorithm(),backend=default_backend())\n",
    "    digest.update(s)\n",
    "    return digest.finalize()\n",
    "\n",
    "#s é a inversa multiplicativa modular de a modulo b\n",
    "#t é a inversa multiplicativa modular de b modulo a\n",
    "def mod_mult_inv(a,b):\n",
    "    [g,s,t] = xgcd(a,b)\n",
    "    return Integer(mod(s,b))\n",
    "\n"
   ]
  },
  {
   "cell_type": "markdown",
   "metadata": {},
   "source": [
    "O ECDSA foi implementado com a curva P-192. Iremos agora apresentar os parâmetros das curvas para melhor perceber esta implementação.\n",
    "\n",
    "\n",
    "\n",
    "p - Primo que define o campo finito em que da curva\n",
    "\n",
    "n - Ordem do gerador da curva\n",
    "\n",
    "G - Ponto da curva\n",
    "\n",
    "d - Chave Privada\n",
    "\n",
    "q - Chave Publica (multiplicação de d com G)\n",
    "\n",
    "k - Gerado aleatoriamente no processo de assinatura\n",
    "\n",
    "(s1,s2) - Assinatura \n"
   ]
  },
  {
   "cell_type": "code",
   "execution_count": 32,
   "metadata": {},
   "outputs": [],
   "source": [
    "NIST = dict()\n",
    "NIST['P-192'] =  {\n",
    "         'p': 6277101735386680763835789423207666416083908700390324961279,\n",
    "         'n': 6277101735386680763835789423176059013767194773182842284081,\n",
    "         'b': '64210519e59c80e70fa7e9ab72243049feb8deecc146b9b1',\n",
    "         'Gx' : '188da80eb03090f67cbf20eb43a18800f4ff0afd82ff1012',\n",
    "         'Gy' : '07192b95ffc8da78631011ed6b24cdd573f977a11e794811'\n",
    "        }\n"
   ]
  },
  {
   "cell_type": "code",
   "execution_count": 37,
   "metadata": {},
   "outputs": [],
   "source": [
    "c = NIST['P-192']\n",
    "p  = c['p'] \n",
    "n  = c['n']\n",
    "b  = ZZ(c['b'],16)\n",
    "Gx = ZZ(c['Gx'],16)\n",
    "Gy = ZZ(c['Gy'],16)\n",
    "\n",
    "#https://www.johannes-bauer.com/compsci/ecc/\n",
    "#4.2\n",
    "\n",
    "#Geração de chaves\n",
    "def keyGen():\n",
    "    #escolhe um inteiro aleatório 'd' tal que 0 < d < p\n",
    "    #private key d\n",
    "    d = ZZ.random_element(1,n-1)\n",
    "    E = EllipticCurve(GF(p),[-3,b])\n",
    "    G = E((Gx,Gy))\n",
    "    #public key q\n",
    "    q = d * G\n",
    "    return (d,q,G)\n",
    "    \n",
    "#4.4.1\n",
    "#Assinatura \n",
    "#nem o s nem o r podem ser 0\n",
    "def sign(d,q,G,msg):\n",
    "    s = 0\n",
    "    while s==0:\n",
    "        r = 0\n",
    "        while r==0:\n",
    "            k = ZZ.random_element(1,n-1)\n",
    "            r = k*G\n",
    "        s1 = mod(r[0],n)\n",
    "        inv = mod_mult_inv(k,n)\n",
    "        s2 = (msg+d*s1)*inv\n",
    "        return (s1,s2)\n",
    "\n",
    "def verify(s1,s2,msg,q,G):\n",
    "    inv = mod_mult_inv(s2,n)\n",
    "    u1 = msg*inv\n",
    "    u2 = s1*inv\n",
    "    u1 = ZZ(u1)\n",
    "    u2 = ZZ(u2) \n",
    "    ponto = (u1*G) + (u2*q) \n",
    "    #se o módulo p[0] é igual a s1 então a assinatura é válida\n",
    "    px = ponto[0]\n",
    "    return mod(px,n) == s1\n",
    "    \n",
    "    \n",
    "    "
   ]
  },
  {
   "cell_type": "code",
   "execution_count": 38,
   "metadata": {},
   "outputs": [
    {
     "name": "stdout",
     "output_type": "stream",
     "text": [
      "Assinatura válida\n"
     ]
    }
   ],
   "source": [
    "msg = \"HELLO\"\n",
    "h = hash(msg)\n",
    "\n",
    "(d,q,G) = keyGen()\n",
    "(s1,s2) = sign(d,q,G,h)\n",
    "\n",
    "ver = verify(s1,s2,h,q,G)\n",
    "\n",
    "if ver==True:\n",
    "    print \"Assinatura válida\"\n",
    "else:\n",
    "    print \"Erro\"\n"
   ]
  },
  {
   "cell_type": "code",
   "execution_count": null,
   "metadata": {},
   "outputs": [],
   "source": []
  }
 ],
 "metadata": {
  "kernelspec": {
   "display_name": "Python 3",
   "language": "python",
   "name": "python3"
  },
  "language_info": {
   "codemirror_mode": {
    "name": "ipython",
    "version": 2
   },
   "file_extension": ".py",
   "mimetype": "text/x-python",
   "name": "python",
   "nbconvert_exporter": "python",
   "pygments_lexer": "ipython2",
   "version": "2.7.16"
  }
 },
 "nbformat": 4,
 "nbformat_minor": 2
}
